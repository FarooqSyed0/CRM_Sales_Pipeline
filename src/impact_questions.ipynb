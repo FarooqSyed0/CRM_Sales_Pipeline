{
 "cells": [
  {
   "cell_type": "markdown",
   "id": "0930605e",
   "metadata": {},
   "source": [
    "# Business Impact Questions In Depth\n",
    "\n",
    "\n",
    "This notebook provides a comprehensive analysis of the sales pipeline, including pipeline optimization, revenue forecasting, performance benchmarking, and product-market optimization."
   ]
  },
  {
   "cell_type": "markdown",
   "id": "a9ef1136",
   "metadata": {},
   "source": [
    "## Data Import\n",
    "\n",
    "This cell imports the necessary library (`pandas`) and loads the cleaned CRM and sales pipeline data from the file `CRM-and-Sales-Pipelines_cleaned.csv` into a DataFrame named `df`. It then displays the first few rows of the dataset using `df.head()`, allowing for a quick inspection of the data structure and contents."
   ]
  },
  {
   "cell_type": "code",
   "execution_count": 8,
   "id": "4370b488",
   "metadata": {},
   "outputs": [
    {
     "data": {
      "text/html": [
       "<div>\n",
       "<style scoped>\n",
       "    .dataframe tbody tr th:only-of-type {\n",
       "        vertical-align: middle;\n",
       "    }\n",
       "\n",
       "    .dataframe tbody tr th {\n",
       "        vertical-align: top;\n",
       "    }\n",
       "\n",
       "    .dataframe thead th {\n",
       "        text-align: right;\n",
       "    }\n",
       "</style>\n",
       "<table border=\"1\" class=\"dataframe\">\n",
       "  <thead>\n",
       "    <tr style=\"text-align: right;\">\n",
       "      <th></th>\n",
       "      <th>Organization</th>\n",
       "      <th>Country</th>\n",
       "      <th>Latitude</th>\n",
       "      <th>Longitude</th>\n",
       "      <th>Industry</th>\n",
       "      <th>Organization_size</th>\n",
       "      <th>Owner</th>\n",
       "      <th>Lead_acquisition_date</th>\n",
       "      <th>Product</th>\n",
       "      <th>Status</th>\n",
       "      <th>Status_sequence</th>\n",
       "      <th>Stage</th>\n",
       "      <th>Stage_sequence</th>\n",
       "      <th>Deal_Value_USD</th>\n",
       "      <th>Probability_Pct</th>\n",
       "      <th>Expected_close_date</th>\n",
       "      <th>Actual_close_date</th>\n",
       "    </tr>\n",
       "  </thead>\n",
       "  <tbody>\n",
       "    <tr>\n",
       "      <th>0</th>\n",
       "      <td>Thoughtblab</td>\n",
       "      <td>Netherlands</td>\n",
       "      <td>52.370216</td>\n",
       "      <td>4.895168</td>\n",
       "      <td>Banking and Finance</td>\n",
       "      <td>Small (11-200)</td>\n",
       "      <td>John Smith</td>\n",
       "      <td>4/20/2024</td>\n",
       "      <td>SAAS</td>\n",
       "      <td>Churned Customer</td>\n",
       "      <td>7</td>\n",
       "      <td>NaN</td>\n",
       "      <td>NaN</td>\n",
       "      <td>833</td>\n",
       "      <td>90</td>\n",
       "      <td>8/7/2024</td>\n",
       "      <td>6/27/2024</td>\n",
       "    </tr>\n",
       "    <tr>\n",
       "      <th>1</th>\n",
       "      <td>Jaxnation</td>\n",
       "      <td>Spain</td>\n",
       "      <td>40.416775</td>\n",
       "      <td>-3.703790</td>\n",
       "      <td>Energy &amp; Utilities</td>\n",
       "      <td>Small (11-200)</td>\n",
       "      <td>Emily Johnson</td>\n",
       "      <td>5/28/2024</td>\n",
       "      <td>SAAS</td>\n",
       "      <td>Churned Customer</td>\n",
       "      <td>7</td>\n",
       "      <td>NaN</td>\n",
       "      <td>NaN</td>\n",
       "      <td>1623</td>\n",
       "      <td>30</td>\n",
       "      <td>10/25/2024</td>\n",
       "      <td>9/11/2024</td>\n",
       "    </tr>\n",
       "    <tr>\n",
       "      <th>2</th>\n",
       "      <td>Mybuzz</td>\n",
       "      <td>Italy</td>\n",
       "      <td>41.902782</td>\n",
       "      <td>12.496366</td>\n",
       "      <td>Education &amp; Science</td>\n",
       "      <td>Small (11-200)</td>\n",
       "      <td>Michael Brown</td>\n",
       "      <td>3/17/2024</td>\n",
       "      <td>SAAS</td>\n",
       "      <td>Churned Customer</td>\n",
       "      <td>7</td>\n",
       "      <td>NaN</td>\n",
       "      <td>NaN</td>\n",
       "      <td>1928</td>\n",
       "      <td>20</td>\n",
       "      <td>3/17/2025</td>\n",
       "      <td>5/11/2024</td>\n",
       "    </tr>\n",
       "    <tr>\n",
       "      <th>3</th>\n",
       "      <td>Kare</td>\n",
       "      <td>Germany</td>\n",
       "      <td>52.520008</td>\n",
       "      <td>13.404954</td>\n",
       "      <td>Government Administration Healthcare</td>\n",
       "      <td>Small (11-200)</td>\n",
       "      <td>Michael Brown</td>\n",
       "      <td>1/18/2024</td>\n",
       "      <td>SAAS</td>\n",
       "      <td>Churned Customer</td>\n",
       "      <td>7</td>\n",
       "      <td>NaN</td>\n",
       "      <td>NaN</td>\n",
       "      <td>303</td>\n",
       "      <td>50</td>\n",
       "      <td>8/7/2024</td>\n",
       "      <td>5/6/2024</td>\n",
       "    </tr>\n",
       "    <tr>\n",
       "      <th>4</th>\n",
       "      <td>Skaboo</td>\n",
       "      <td>Germany</td>\n",
       "      <td>52.520008</td>\n",
       "      <td>13.404954</td>\n",
       "      <td>Energy &amp; Utilities</td>\n",
       "      <td>Small (11-200)</td>\n",
       "      <td>Michael Brown</td>\n",
       "      <td>4/6/2024</td>\n",
       "      <td>SAAS</td>\n",
       "      <td>Churned Customer</td>\n",
       "      <td>7</td>\n",
       "      <td>NaN</td>\n",
       "      <td>NaN</td>\n",
       "      <td>1911</td>\n",
       "      <td>30</td>\n",
       "      <td>10/11/2024</td>\n",
       "      <td>7/25/2024</td>\n",
       "    </tr>\n",
       "  </tbody>\n",
       "</table>\n",
       "</div>"
      ],
      "text/plain": [
       "  Organization      Country   Latitude  Longitude  \\\n",
       "0  Thoughtblab  Netherlands  52.370216   4.895168   \n",
       "1    Jaxnation        Spain  40.416775  -3.703790   \n",
       "2       Mybuzz        Italy  41.902782  12.496366   \n",
       "3         Kare      Germany  52.520008  13.404954   \n",
       "4       Skaboo      Germany  52.520008  13.404954   \n",
       "\n",
       "                               Industry Organization_size          Owner  \\\n",
       "0                   Banking and Finance    Small (11-200)     John Smith   \n",
       "1                    Energy & Utilities    Small (11-200)  Emily Johnson   \n",
       "2                   Education & Science    Small (11-200)  Michael Brown   \n",
       "3  Government Administration Healthcare    Small (11-200)  Michael Brown   \n",
       "4                    Energy & Utilities    Small (11-200)  Michael Brown   \n",
       "\n",
       "  Lead_acquisition_date Product            Status  Status_sequence Stage  \\\n",
       "0             4/20/2024    SAAS  Churned Customer                7   NaN   \n",
       "1             5/28/2024    SAAS  Churned Customer                7   NaN   \n",
       "2             3/17/2024    SAAS  Churned Customer                7   NaN   \n",
       "3             1/18/2024    SAAS  Churned Customer                7   NaN   \n",
       "4              4/6/2024    SAAS  Churned Customer                7   NaN   \n",
       "\n",
       "   Stage_sequence  Deal_Value_USD  Probability_Pct Expected_close_date  \\\n",
       "0             NaN             833               90            8/7/2024   \n",
       "1             NaN            1623               30          10/25/2024   \n",
       "2             NaN            1928               20           3/17/2025   \n",
       "3             NaN             303               50            8/7/2024   \n",
       "4             NaN            1911               30          10/11/2024   \n",
       "\n",
       "  Actual_close_date  \n",
       "0         6/27/2024  \n",
       "1         9/11/2024  \n",
       "2         5/11/2024  \n",
       "3          5/6/2024  \n",
       "4         7/25/2024  "
      ]
     },
     "execution_count": 8,
     "metadata": {},
     "output_type": "execute_result"
    }
   ],
   "source": [
    "import pandas as pd\n",
    "df = pd.read_csv('CRM-and-Sales-Pipelines_cleaned.csv')\n",
    "df.head()\n"
   ]
  },
  {
   "cell_type": "markdown",
   "id": "1be5248e",
   "metadata": {},
   "source": [
    "## Pipeline Optimization\n",
    "\n",
    "**Question:**  \n",
    "What does my current sales pipeline look like and how can it be optimized?\n",
    "\n",
    "**Approach:**  \n",
    "To answer this, we analyzed the sales pipeline data by focusing on records where the `Status` is \"Opportunity\". For each country, we calculated:\n",
    "- The total number of opportunities (i.e., deals currently in the \"Opportunity\" stage). There are **867** or **28.9%** opportunities in total.\n",
    "- The percentage of opportunities relative to all records for that country (i.e., opportunities divided by the total number of records for that country, across all stages).\n",
    "\n",
    "We then highlighted the top 5 countries with the highest number of opportunities: **Italy, Germany, France, Switzerland, and Portugal** (replace with your actual top 5 if different). This helps identify markets where the sales pipeline is most opportunity-rich relative to overall activity, which can inform targeted optimization efforts."
   ]
  },
  {
   "cell_type": "code",
   "execution_count": 9,
   "id": "f5f2e596",
   "metadata": {},
   "outputs": [
    {
     "data": {
      "text/html": [
       "<style type=\"text/css\">\n",
       "#T_ae0c8 th {\n",
       "  text-align: center;\n",
       "}\n",
       "#T_ae0c8 td {\n",
       "  text-align: center;\n",
       "}\n",
       "</style>\n",
       "<table id=\"T_ae0c8\">\n",
       "  <thead>\n",
       "    <tr>\n",
       "      <th id=\"T_ae0c8_level0_col0\" class=\"col_heading level0 col0\" >Country</th>\n",
       "      <th id=\"T_ae0c8_level0_col1\" class=\"col_heading level0 col1\" >Total Records</th>\n",
       "      <th id=\"T_ae0c8_level0_col2\" class=\"col_heading level0 col2\" >Percentage</th>\n",
       "      <th id=\"T_ae0c8_level0_col3\" class=\"col_heading level0 col3\" >Opportunities</th>\n",
       "    </tr>\n",
       "  </thead>\n",
       "  <tbody>\n",
       "    <tr>\n",
       "      <td id=\"T_ae0c8_row0_col0\" class=\"data row0 col0\" >Italy</td>\n",
       "      <td id=\"T_ae0c8_row0_col1\" class=\"data row0 col1\" >620</td>\n",
       "      <td id=\"T_ae0c8_row0_col2\" class=\"data row0 col2\" >27.9%</td>\n",
       "      <td id=\"T_ae0c8_row0_col3\" class=\"data row0 col3\" >173</td>\n",
       "    </tr>\n",
       "    <tr>\n",
       "      <td id=\"T_ae0c8_row1_col0\" class=\"data row1 col0\" >Germany</td>\n",
       "      <td id=\"T_ae0c8_row1_col1\" class=\"data row1 col1\" >420</td>\n",
       "      <td id=\"T_ae0c8_row1_col2\" class=\"data row1 col2\" >29.5%</td>\n",
       "      <td id=\"T_ae0c8_row1_col3\" class=\"data row1 col3\" >124</td>\n",
       "    </tr>\n",
       "    <tr>\n",
       "      <td id=\"T_ae0c8_row2_col0\" class=\"data row2 col0\" >France</td>\n",
       "      <td id=\"T_ae0c8_row2_col1\" class=\"data row2 col1\" >422</td>\n",
       "      <td id=\"T_ae0c8_row2_col2\" class=\"data row2 col2\" >29.1%</td>\n",
       "      <td id=\"T_ae0c8_row2_col3\" class=\"data row2 col3\" >123</td>\n",
       "    </tr>\n",
       "    <tr>\n",
       "      <td id=\"T_ae0c8_row3_col0\" class=\"data row3 col0\" >Switzerland</td>\n",
       "      <td id=\"T_ae0c8_row3_col1\" class=\"data row3 col1\" >392</td>\n",
       "      <td id=\"T_ae0c8_row3_col2\" class=\"data row3 col2\" >27.8%</td>\n",
       "      <td id=\"T_ae0c8_row3_col3\" class=\"data row3 col3\" >109</td>\n",
       "    </tr>\n",
       "    <tr>\n",
       "      <td id=\"T_ae0c8_row4_col0\" class=\"data row4 col0\" >Portugal</td>\n",
       "      <td id=\"T_ae0c8_row4_col1\" class=\"data row4 col1\" >371</td>\n",
       "      <td id=\"T_ae0c8_row4_col2\" class=\"data row4 col2\" >28.6%</td>\n",
       "      <td id=\"T_ae0c8_row4_col3\" class=\"data row4 col3\" >106</td>\n",
       "    </tr>\n",
       "  </tbody>\n",
       "</table>\n"
      ],
      "text/plain": [
       "<IPython.core.display.HTML object>"
      ]
     },
     "metadata": {},
     "output_type": "display_data"
    },
    {
     "data": {
      "image/png": "[encoded data removed]",
      "text/plain": [
       "<Figure size 700x300 with 1 Axes>"
      ]
     },
     "metadata": {},
     "output_type": "display_data"
    }
   ],
   "source": [
    "import pandas as pd\n",
    "from IPython.display import display, HTML\n",
    "\n",
    "# Count total records for each country (all stages)\n",
    "total_by_country = df['Country'].value_counts().reset_index()\n",
    "total_by_country.columns = ['Country', 'Total Records']\n",
    "\n",
    "# Count opportunities for each country\n",
    "opps_by_country = df[df['Status'] == 'Opportunity']['Country'].value_counts().reset_index()\n",
    "opps_by_country.columns = ['Country', 'Opportunities']\n",
    "\n",
    "# Merge the two DataFrames\n",
    "merged = pd.merge(total_by_country, opps_by_country, on='Country', how='left').fillna(0)\n",
    "merged['Opportunities'] = merged['Opportunities'].astype(int)\n",
    "\n",
    "# Calculate percentage and format as '29.1%'\n",
    "merged['Percentage'] = (merged['Opportunities'] / merged['Total Records']) * 100\n",
    "merged['Percentage'] = merged['Percentage'].map('{:.1f}%'.format)\n",
    "\n",
    "# Reorder columns: Country, Total Records, Percentage, Opportunities\n",
    "final = merged[['Country', 'Total Records', 'Percentage', 'Opportunities']]\n",
    "\n",
    "# Sort by Opportunities descending and get top 5\n",
    "final = final.sort_values('Opportunities', ascending=False).head(5).reset_index(drop=True)\n",
    "\n",
    "# Center all columns\n",
    "styles = [\n",
    "    {'selector': 'th', 'props': [('text-align', 'center')]},\n",
    "    {'selector': 'td', 'props': [('text-align', 'center')]}\n",
    "]\n",
    "\n",
    "display(HTML(final.style.set_table_styles(styles).hide(axis='index').to_html()))\n",
    "\n",
    "import matplotlib.pyplot as plt\n",
    "\n",
    "# Plotting the top 5 countries by opportunities\n",
    "plt.figure(figsize=(7, 3))\n",
    "plt.barh(final['Country'], final['Opportunities'], color='skyblue')\n",
    "plt.xlabel('Number of Opportunities')\n",
    "plt.title('Top 5 Countries by Number of Opportunities')\n",
    "for i, (opp, pct) in enumerate(zip(final['Opportunities'], final['Percentage'])):\n",
    "    plt.text(opp, i, f'{opp} ({pct})', va='center', fontsize=10)\n",
    "plt.gca().invert_yaxis()  # Highest at the top\n",
    "plt.tight_layout()\n",
    "plt.show()"
   ]
  },
  {
   "cell_type": "markdown",
   "id": "41268c47",
   "metadata": {},
   "source": [
    "## Revenue Forecasting\n",
    "\n",
    "**Question:**  \n",
    "What is the sales forecast accuracy for strategic planning?\n",
    "\n",
    "**Approach:**  \n",
    "To provide a clear and objective view of the sales pipeline for strategic planning, I analyzed the total value of all deals expected to close in each quarter. This analysis uses only the `Deal_Value_USD` and the `Expected_close_date` columns from the CRM data, grouping deals by the quarter of their expected close date.\n",
    "\n",
    "I chose not to use probability-weighted values (`Probability_Pct`) in this forecast. Probability estimates can vary significantly between deals and sales representatives, introducing subjectivity and potential inconsistency. By focusing on the gross pipeline value, this approach offers a transparent and easily interpretable view of the sales pipeline, which is especially useful for high-level business planning and communication.\n"
   ]
  },
  {
   "cell_type": "code",
   "execution_count": 10,
   "id": "f77ee8b1",
   "metadata": {},
   "outputs": [
    {
     "data": {
      "image/png": "[encoded data removed]",
      "text/plain": [
       "<Figure size 600x250 with 1 Axes>"
      ]
     },
     "metadata": {},
     "output_type": "display_data"
    }
   ],
   "source": [
    "import matplotlib.pyplot as plt\n",
    "import matplotlib.ticker as mtick\n",
    "\n",
    "# Ensure date is parsed and quarter is extracted\n",
    "df['Expected_close_date'] = pd.to_datetime(df['Expected_close_date'], errors='coerce')\n",
    "df['Quarter'] = df['Expected_close_date'].dt.to_period('Q')\n",
    "\n",
    "# Group by quarter and sum deal value\n",
    "gross_by_quarter = df.groupby('Quarter')['Deal_Value_USD'].sum().reset_index()\n",
    "gross_by_quarter['Quarter'] = gross_by_quarter['Quarter'].astype(str)\n",
    "\n",
    "# Function to format currency in $12K, $1M, etc.\n",
    "def currency_format(x, pos):\n",
    "    if x >= 1_000_000:\n",
    "        return f'${x/1_000_000:.1f}M'\n",
    "    elif x >= 1_000:\n",
    "        return f'${x/1_000:.0f}K'\n",
    "    else:\n",
    "        return f'${x:,.0f}'\n",
    "\n",
    "plt.figure(figsize=(6, 2.5))\n",
    "plt.plot(gross_by_quarter['Quarter'], gross_by_quarter['Deal_Value_USD'], marker='o', label='Total Pipeline Value')\n",
    "\n",
    "# Annotate each point with formatted value\n",
    "for i, v in enumerate(gross_by_quarter['Deal_Value_USD']):\n",
    "    plt.text(i, v, currency_format(v, None), ha='center', va='bottom', fontsize=10, fontweight='bold')\n",
    "\n",
    "plt.title('Total Pipeline Value by Quarter (Based on Expected Close Date)')\n",
    "plt.xlabel('Quarter')\n",
    "plt.ylabel('Total Pipeline Value')\n",
    "plt.gca().yaxis.set_major_formatter(mtick.FuncFormatter(currency_format))\n",
    "plt.grid(True, axis='y', linestyle='--', alpha=0.7)\n",
    "plt.tight_layout()\n",
    "plt.show()\n"
   ]
  },
  {
   "cell_type": "markdown",
   "id": "46e09958",
   "metadata": {},
   "source": [
    "## Performance Benchmarking\n",
    "\n",
    "**Question:**  \n",
    "What are the actual win rate benchmarks for competitive positioning?\n",
    "\n",
    "**Approach:**  \n",
    "To answer this, I defined a “win” as any deal where the `Stage` is \"Won\". For the denominator, I considered only opportunities—specifically, records where `Status` is \"Opportunity\". I calculated:\n",
    "- The top 5 countries by number of wins: **Italy, Germany, France, Belgium, and Spain** \n",
    "- The total number of wins across all opportunities.\n",
    "- The overall win rate, defined as the percentage of wins out of all opportunities (`Status == \"Opportunity\"`).\n",
    "\n",
    "\n",
    "• **Status Column Analysis**: The CSV `Status` column shows 9.6% win rate (83 wins from 867 opportunities) - significantly below industry benchmark of 15-25% for B2B SaaS\n",
    "\n",
    "• **Status Funnel Distribution**: Strong lead-to-opportunity conversion (28.9%) but poor opportunity-to-win conversion (9.6%) in the `Status` column, indicating weak competitive positioning in final sales stage\n",
    "\n",
    "• **Competitive Disadvantage**: The `Status` column funnel reveals effective lead generation but critical weakness in closing deals, requiring immediate sales process optimization to reach competitive win rate targets\n",
    "\n",
    "> **Note:**  \n",
    "> High win rates with few opportunities may not reflect a true trend. Consider both win rate and number of wins for decisions.\n",
    "\n",
    "\n"
   ]
  },
  {
   "cell_type": "code",
   "execution_count": null,
   "id": "de8b696a",
   "metadata": {},
   "outputs": [
    {
     "name": "stdout",
     "output_type": "stream",
     "text": [
      "Total Wins: 83\n",
      "Overall Win Rate: 9.6%\n"
     ]
    },
    {
     "data": {
      "text/html": [
       "<style type=\"text/css\">\n",
       "#T_a3803 th {\n",
       "  text-align: center;\n",
       "}\n",
       "#T_a3803 td {\n",
       "  text-align: center;\n",
       "}\n",
       "</style>\n",
       "<table id=\"T_a3803\">\n",
       "  <thead>\n",
       "    <tr>\n",
       "      <th id=\"T_a3803_level0_col0\" class=\"col_heading level0 col0\" >Country</th>\n",
       "      <th id=\"T_a3803_level0_col1\" class=\"col_heading level0 col1\" >Opportunities</th>\n",
       "      <th id=\"T_a3803_level0_col2\" class=\"col_heading level0 col2\" >Wins</th>\n",
       "      <th id=\"T_a3803_level0_col3\" class=\"col_heading level0 col3\" >Win Rate</th>\n",
       "    </tr>\n",
       "  </thead>\n",
       "  <tbody>\n",
       "    <tr>\n",
       "      <td id=\"T_a3803_row0_col0\" class=\"data row0 col0\" >Belgium</td>\n",
       "      <td id=\"T_a3803_row0_col1\" class=\"data row0 col1\" >65</td>\n",
       "      <td id=\"T_a3803_row0_col2\" class=\"data row0 col2\" >11</td>\n",
       "      <td id=\"T_a3803_row0_col3\" class=\"data row0 col3\" >16.9%</td>\n",
       "    </tr>\n",
       "    <tr>\n",
       "      <td id=\"T_a3803_row1_col0\" class=\"data row1 col0\" >Germany</td>\n",
       "      <td id=\"T_a3803_row1_col1\" class=\"data row1 col1\" >124</td>\n",
       "      <td id=\"T_a3803_row1_col2\" class=\"data row1 col2\" >13</td>\n",
       "      <td id=\"T_a3803_row1_col3\" class=\"data row1 col3\" >10.5%</td>\n",
       "    </tr>\n",
       "    <tr>\n",
       "      <td id=\"T_a3803_row2_col0\" class=\"data row2 col0\" >Italy</td>\n",
       "      <td id=\"T_a3803_row2_col1\" class=\"data row2 col1\" >173</td>\n",
       "      <td id=\"T_a3803_row2_col2\" class=\"data row2 col2\" >18</td>\n",
       "      <td id=\"T_a3803_row2_col3\" class=\"data row2 col3\" >10.4%</td>\n",
       "    </tr>\n",
       "    <tr>\n",
       "      <td id=\"T_a3803_row3_col0\" class=\"data row3 col0\" >France</td>\n",
       "      <td id=\"T_a3803_row3_col1\" class=\"data row3 col1\" >123</td>\n",
       "      <td id=\"T_a3803_row3_col2\" class=\"data row3 col2\" >12</td>\n",
       "      <td id=\"T_a3803_row3_col3\" class=\"data row3 col3\" >9.8%</td>\n",
       "    </tr>\n",
       "    <tr>\n",
       "      <td id=\"T_a3803_row4_col0\" class=\"data row4 col0\" >Spain</td>\n",
       "      <td id=\"T_a3803_row4_col1\" class=\"data row4 col1\" >54</td>\n",
       "      <td id=\"T_a3803_row4_col2\" class=\"data row4 col2\" >5</td>\n",
       "      <td id=\"T_a3803_row4_col3\" class=\"data row4 col3\" >9.3%</td>\n",
       "    </tr>\n",
       "  </tbody>\n",
       "</table>\n"
      ],
      "text/plain": [
       "<IPython.core.display.HTML object>"
      ]
     },
     "metadata": {},
     "output_type": "display_data"
    },
    {
     "data": {
      "image/png": "[encoded data removed]",
      "text/plain": [
       "<Figure size 700x300 with 1 Axes>"
      ]
     },
     "metadata": {},
     "output_type": "display_data"
    }
   ],
   "source": [
    "import pandas as pd\n",
    "from IPython.display import display, HTML\n",
    "\n",
    "# Filter for opportunities (where Stage is not null)\n",
    "opps_df = df[df['Stage'].notnull()]\n",
    "\n",
    "# Filter for wins\n",
    "wins_df = df[df['Stage'].str.lower() == 'won']\n",
    "\n",
    "# Total number of wins and opportunities\n",
    "total_wins = wins_df.shape[0]\n",
    "total_opps = opps_df.shape[0]\n",
    "\n",
    "# Overall win rate percentage\n",
    "win_rate = (total_wins / total_opps) * 100\n",
    "\n",
    "print(f\"Total Wins: {total_wins}\")\n",
    "print(f\"Overall Win Rate: {win_rate:.1f}%\")\n",
    "\n",
    "# Top 3 countries by number of wins\n",
    "country_wins = wins_df['Country'].value_counts().reset_index()\n",
    "country_wins.columns = ['Country', 'Wins']\n",
    "\n",
    "# Number of opportunities per country\n",
    "country_opps = opps_df['Country'].value_counts().reset_index()\n",
    "country_opps.columns = ['Country', 'Opportunities']\n",
    "\n",
    "# Merge and calculate win rate per country\n",
    "country_stats = pd.merge(country_wins, country_opps, on='Country')\n",
    "country_stats['Win Rate'] = (country_stats['Wins'] / country_stats['Opportunities']) * 100\n",
    "country_stats['Win Rate'] = country_stats['Win Rate'].map('{:.1f}%'.format)\n",
    "\n",
    "# Reorder columns: Country, Opportunities, Wins, Win Rate\n",
    "country_stats = country_stats[['Country', 'Opportunities', 'Wins', 'Win Rate']]\n",
    "\n",
    "# Sort by win rate descending (need numeric sort, so recalculate)\n",
    "country_stats['Win Rate (num)'] = (country_stats['Wins'] / country_stats['Opportunities']) * 100\n",
    "country_stats = country_stats.sort_values('Win Rate (num)', ascending=False).head(5).reset_index(drop=True)\n",
    "country_stats = country_stats.drop(columns=['Win Rate (num)'])\n",
    "\n",
    "# Center all columns and remove index\n",
    "styles = [\n",
    "    {'selector': 'th', 'props': [('text-align', 'center')]},\n",
    "    {'selector': 'td', 'props': [('text-align', 'center')]}\n",
    "]\n",
    "\n",
    "display(HTML(country_stats.style.set_table_styles(styles).hide(axis='index').to_html()))\n",
    "\n",
    "\n",
    "\n",
    "import matplotlib.pyplot as plt\n",
    "\n",
    "# Sort by number of wins descending for the plot\n",
    "plot_data = country_stats.sort_values('Wins', ascending=False)\n",
    "\n",
    "plt.figure(figsize=(7, 3))\n",
    "plt.barh(plot_data['Country'], plot_data['Wins'], color='mediumseagreen')\n",
    "plt.xlabel('Number of Wins')\n",
    "plt.title('Top 5 Countries by Win Rate (Number of Wins)')\n",
    "for i, (wins, rate) in enumerate(zip(plot_data['Wins'], plot_data['Win Rate'])):\n",
    "    plt.text(wins, i, f'{wins} ({rate})', va='center', fontsize=10)\n",
    "plt.gca().invert_yaxis()  # Highest at the top\n",
    "plt.tight_layout()\n",
    "plt.show()\n"
   ]
  },
  {
   "cell_type": "code",
   "execution_count": null,
   "id": "77e5b3d7",
   "metadata": {},
   "outputs": [
    {
     "data": {
      "image/png": "[encoded data removed]",
      "text/plain": [
       "<Figure size 800x500 with 1 Axes>"
      ]
     },
     "metadata": {},
     "output_type": "display_data"
    }
   ],
   "source": []
  },
  {
   "cell_type": "code",
   "execution_count": null,
   "id": "3205b3f1",
   "metadata": {},
   "outputs": [
    {
     "data": {
      "text/html": [
       "<style type=\"text/css\">\n",
       "#T_0e602 th {\n",
       "  text-align: center;\n",
       "}\n",
       "#T_0e602 td {\n",
       "  text-align: center;\n",
       "}\n",
       "</style>\n",
       "<table id=\"T_0e602\">\n",
       "  <thead>\n",
       "    <tr>\n",
       "      <th id=\"T_0e602_level0_col0\" class=\"col_heading level0 col0\" >Status</th>\n",
       "      <th id=\"T_0e602_level0_col1\" class=\"col_heading level0 col1\" >Count</th>\n",
       "    </tr>\n",
       "  </thead>\n",
       "  <tbody>\n",
       "    <tr>\n",
       "      <td id=\"T_0e602_row0_col0\" class=\"data row0 col0\" >Opportunity</td>\n",
       "      <td id=\"T_0e602_row0_col1\" class=\"data row0 col1\" >867</td>\n",
       "    </tr>\n",
       "    <tr>\n",
       "      <td id=\"T_0e602_row1_col0\" class=\"data row1 col0\" >Qualified</td>\n",
       "      <td id=\"T_0e602_row1_col1\" class=\"data row1 col1\" >567</td>\n",
       "    </tr>\n",
       "    <tr>\n",
       "      <td id=\"T_0e602_row2_col0\" class=\"data row2 col0\" >Sales Accepted</td>\n",
       "      <td id=\"T_0e602_row2_col1\" class=\"data row2 col1\" >528</td>\n",
       "    </tr>\n",
       "    <tr>\n",
       "      <td id=\"T_0e602_row3_col0\" class=\"data row3 col0\" >New</td>\n",
       "      <td id=\"T_0e602_row3_col1\" class=\"data row3 col1\" >513</td>\n",
       "    </tr>\n",
       "    <tr>\n",
       "      <td id=\"T_0e602_row4_col0\" class=\"data row4 col0\" >Churned Customer</td>\n",
       "      <td id=\"T_0e602_row4_col1\" class=\"data row4 col1\" >177</td>\n",
       "    </tr>\n",
       "    <tr>\n",
       "      <td id=\"T_0e602_row5_col0\" class=\"data row5 col0\" >Disqualified</td>\n",
       "      <td id=\"T_0e602_row5_col1\" class=\"data row5 col1\" >177</td>\n",
       "    </tr>\n",
       "    <tr>\n",
       "      <td id=\"T_0e602_row6_col0\" class=\"data row6 col0\" >Customer</td>\n",
       "      <td id=\"T_0e602_row6_col1\" class=\"data row6 col1\" >171</td>\n",
       "    </tr>\n",
       "  </tbody>\n",
       "</table>\n"
      ],
      "text/plain": [
       "<IPython.core.display.HTML object>"
      ]
     },
     "metadata": {},
     "output_type": "display_data"
    }
   ],
   "source": [
    "import pandas as pd\n",
    "from IPython.display import display, HTML\n",
    "\n",
    "# Load the CSV file\n",
    "df = pd.read_csv('CRM-and-Sales-Pipelines_cleaned.csv')\n",
    "\n",
    "# Count occurrences of each Status\n",
    "status_counts = df['Status'].value_counts().reset_index()\n",
    "status_counts.columns = ['Status', 'Count']\n",
    "\n",
    "# Remove index and center all columns\n",
    "display(HTML(\n",
    "    status_counts.style\n",
    "        .set_table_styles([\n",
    "            {'selector': 'th', 'props': [('text-align', 'center')]},\n",
    "            {'selector': 'td', 'props': [('text-align', 'center')]}\n",
    "        ])\n",
    "        .hide(axis='index')\n",
    "        .to_html()\n",
    "))"
   ]
  },
  {
   "cell_type": "code",
   "execution_count": 16,
   "id": "00ff129c",
   "metadata": {},
   "outputs": [
    {
     "data": {
      "application/vnd.plotly.v1+json": {
       "config": {
        "plotlyServerURL": "https://plot.ly"
       },
       "data": [
        {
         "marker": {
          "color": [
           "#FF8C42",
           "#3A99D8",
           "#20B2AA",
           "#444444",
           "#8BC34A",
           "#FFC107",
           "#E91E63"
          ]
         },
         "textinfo": "value+percent initial",
         "type": "funnel",
         "x": [
          867,
          567,
          528,
          513,
          177,
          177,
          171
         ],
         "y": [
          "Opportunity",
          "Qualified",
          "Sales Accepted",
          "New",
          "Churned Customer",
          "Disqualified",
          "Customer"
         ]
        }
       ],
       "layout": {
        "plot_bgcolor": "white",
        "template": {
         "data": {
          "bar": [
           {
            "error_x": {
             "color": "#2a3f5f"
            },
            "error_y": {
             "color": "#2a3f5f"
            },
            "marker": {
             "line": {
              "color": "#E5ECF6",
              "width": 0.5
             },
             "pattern": {
              "fillmode": "overlay",
              "size": 10,
              "solidity": 0.2
             }
            },
            "type": "bar"
           }
          ],
          "barpolar": [
           {
            "marker": {
             "line": {
              "color": "#E5ECF6",
              "width": 0.5
             },
             "pattern": {
              "fillmode": "overlay",
              "size": 10,
              "solidity": 0.2
             }
            },
            "type": "barpolar"
           }
          ],
          "carpet": [
           {
            "aaxis": {
             "endlinecolor": "#2a3f5f",
             "gridcolor": "white",
             "linecolor": "white",
             "minorgridcolor": "white",
             "startlinecolor": "#2a3f5f"
            },
            "baxis": {
             "endlinecolor": "#2a3f5f",
             "gridcolor": "white",
             "linecolor": "white",
             "minorgridcolor": "white",
             "startlinecolor": "#2a3f5f"
            },
            "type": "carpet"
           }
          ],
          "choropleth": [
           {
            "colorbar": {
             "outlinewidth": 0,
             "ticks": ""
            },
            "type": "choropleth"
           }
          ],
          "contour": [
           {
            "colorbar": {
             "outlinewidth": 0,
             "ticks": ""
            },
            "colorscale": [
             [
              0,
              "#0d0887"
             ],
             [
              0.1111111111111111,
              "#46039f"
             ],
             [
              0.2222222222222222,
              "#7201a8"
             ],
             [
              0.3333333333333333,
              "#9c179e"
             ],
             [
              0.4444444444444444,
              "#bd3786"
             ],
             [
              0.5555555555555556,
              "#d8576b"
             ],
             [
              0.6666666666666666,
              "#ed7953"
             ],
             [
              0.7777777777777778,
              "#fb9f3a"
             ],
             [
              0.8888888888888888,
              "#fdca26"
             ],
             [
              1,
              "#f0f921"
             ]
            ],
            "type": "contour"
           }
          ],
          "contourcarpet": [
           {
            "colorbar": {
             "outlinewidth": 0,
             "ticks": ""
            },
            "type": "contourcarpet"
           }
          ],
          "heatmap": [
           {
            "colorbar": {
             "outlinewidth": 0,
             "ticks": ""
            },
            "colorscale": [
             [
              0,
              "#0d0887"
             ],
             [
              0.1111111111111111,
              "#46039f"
             ],
             [
              0.2222222222222222,
              "#7201a8"
             ],
             [
              0.3333333333333333,
              "#9c179e"
             ],
             [
              0.4444444444444444,
              "#bd3786"
             ],
             [
              0.5555555555555556,
              "#d8576b"
             ],
             [
              0.6666666666666666,
              "#ed7953"
             ],
             [
              0.7777777777777778,
              "#fb9f3a"
             ],
             [
              0.8888888888888888,
              "#fdca26"
             ],
             [
              1,
              "#f0f921"
             ]
            ],
            "type": "heatmap"
           }
          ],
          "heatmapgl": [
           {
            "colorbar": {
             "outlinewidth": 0,
             "ticks": ""
            },
            "colorscale": [
             [
              0,
              "#0d0887"
             ],
             [
              0.1111111111111111,
              "#46039f"
             ],
             [
              0.2222222222222222,
              "#7201a8"
             ],
             [
              0.3333333333333333,
              "#9c179e"
             ],
             [
              0.4444444444444444,
              "#bd3786"
             ],
             [
              0.5555555555555556,
              "#d8576b"
             ],
             [
              0.6666666666666666,
              "#ed7953"
             ],
             [
              0.7777777777777778,
              "#fb9f3a"
             ],
             [
              0.8888888888888888,
              "#fdca26"
             ],
             [
              1,
              "#f0f921"
             ]
            ],
            "type": "heatmapgl"
           }
          ],
          "histogram": [
           {
            "marker": {
             "pattern": {
              "fillmode": "overlay",
              "size": 10,
              "solidity": 0.2
             }
            },
            "type": "histogram"
           }
          ],
          "histogram2d": [
           {
            "colorbar": {
             "outlinewidth": 0,
             "ticks": ""
            },
            "colorscale": [
             [
              0,
              "#0d0887"
             ],
             [
              0.1111111111111111,
              "#46039f"
             ],
             [
              0.2222222222222222,
              "#7201a8"
             ],
             [
              0.3333333333333333,
              "#9c179e"
             ],
             [
              0.4444444444444444,
              "#bd3786"
             ],
             [
              0.5555555555555556,
              "#d8576b"
             ],
             [
              0.6666666666666666,
              "#ed7953"
             ],
             [
              0.7777777777777778,
              "#fb9f3a"
             ],
             [
              0.8888888888888888,
              "#fdca26"
             ],
             [
              1,
              "#f0f921"
             ]
            ],
            "type": "histogram2d"
           }
          ],
          "histogram2dcontour": [
           {
            "colorbar": {
             "outlinewidth": 0,
             "ticks": ""
            },
            "colorscale": [
             [
              0,
              "#0d0887"
             ],
             [
              0.1111111111111111,
              "#46039f"
             ],
             [
              0.2222222222222222,
              "#7201a8"
             ],
             [
              0.3333333333333333,
              "#9c179e"
             ],
             [
              0.4444444444444444,
              "#bd3786"
             ],
             [
              0.5555555555555556,
              "#d8576b"
             ],
             [
              0.6666666666666666,
              "#ed7953"
             ],
             [
              0.7777777777777778,
              "#fb9f3a"
             ],
             [
              0.8888888888888888,
              "#fdca26"
             ],
             [
              1,
              "#f0f921"
             ]
            ],
            "type": "histogram2dcontour"
           }
          ],
          "mesh3d": [
           {
            "colorbar": {
             "outlinewidth": 0,
             "ticks": ""
            },
            "type": "mesh3d"
           }
          ],
          "parcoords": [
           {
            "line": {
             "colorbar": {
              "outlinewidth": 0,
              "ticks": ""
             }
            },
            "type": "parcoords"
           }
          ],
          "pie": [
           {
            "automargin": true,
            "type": "pie"
           }
          ],
          "scatter": [
           {
            "fillpattern": {
             "fillmode": "overlay",
             "size": 10,
             "solidity": 0.2
            },
            "type": "scatter"
           }
          ],
          "scatter3d": [
           {
            "line": {
             "colorbar": {
              "outlinewidth": 0,
              "ticks": ""
             }
            },
            "marker": {
             "colorbar": {
              "outlinewidth": 0,
              "ticks": ""
             }
            },
            "type": "scatter3d"
           }
          ],
          "scattercarpet": [
           {
            "marker": {
             "colorbar": {
              "outlinewidth": 0,
              "ticks": ""
             }
            },
            "type": "scattercarpet"
           }
          ],
          "scattergeo": [
           {
            "marker": {
             "colorbar": {
              "outlinewidth": 0,
              "ticks": ""
             }
            },
            "type": "scattergeo"
           }
          ],
          "scattergl": [
           {
            "marker": {
             "colorbar": {
              "outlinewidth": 0,
              "ticks": ""
             }
            },
            "type": "scattergl"
           }
          ],
          "scattermapbox": [
           {
            "marker": {
             "colorbar": {
              "outlinewidth": 0,
              "ticks": ""
             }
            },
            "type": "scattermapbox"
           }
          ],
          "scatterpolar": [
           {
            "marker": {
             "colorbar": {
              "outlinewidth": 0,
              "ticks": ""
             }
            },
            "type": "scatterpolar"
           }
          ],
          "scatterpolargl": [
           {
            "marker": {
             "colorbar": {
              "outlinewidth": 0,
              "ticks": ""
             }
            },
            "type": "scatterpolargl"
           }
          ],
          "scatterternary": [
           {
            "marker": {
             "colorbar": {
              "outlinewidth": 0,
              "ticks": ""
             }
            },
            "type": "scatterternary"
           }
          ],
          "surface": [
           {
            "colorbar": {
             "outlinewidth": 0,
             "ticks": ""
            },
            "colorscale": [
             [
              0,
              "#0d0887"
             ],
             [
              0.1111111111111111,
              "#46039f"
             ],
             [
              0.2222222222222222,
              "#7201a8"
             ],
             [
              0.3333333333333333,
              "#9c179e"
             ],
             [
              0.4444444444444444,
              "#bd3786"
             ],
             [
              0.5555555555555556,
              "#d8576b"
             ],
             [
              0.6666666666666666,
              "#ed7953"
             ],
             [
              0.7777777777777778,
              "#fb9f3a"
             ],
             [
              0.8888888888888888,
              "#fdca26"
             ],
             [
              1,
              "#f0f921"
             ]
            ],
            "type": "surface"
           }
          ],
          "table": [
           {
            "cells": {
             "fill": {
              "color": "#EBF0F8"
             },
             "line": {
              "color": "white"
             }
            },
            "header": {
             "fill": {
              "color": "#C8D4E3"
             },
             "line": {
              "color": "white"
             }
            },
            "type": "table"
           }
          ]
         },
         "layout": {
          "annotationdefaults": {
           "arrowcolor": "#2a3f5f",
           "arrowhead": 0,
           "arrowwidth": 1
          },
          "autotypenumbers": "strict",
          "coloraxis": {
           "colorbar": {
            "outlinewidth": 0,
            "ticks": ""
           }
          },
          "colorscale": {
           "diverging": [
            [
             0,
             "#8e0152"
            ],
            [
             0.1,
             "#c51b7d"
            ],
            [
             0.2,
             "#de77ae"
            ],
            [
             0.3,
             "#f1b6da"
            ],
            [
             0.4,
             "#fde0ef"
            ],
            [
             0.5,
             "#f7f7f7"
            ],
            [
             0.6,
             "#e6f5d0"
            ],
            [
             0.7,
             "#b8e186"
            ],
            [
             0.8,
             "#7fbc41"
            ],
            [
             0.9,
             "#4d9221"
            ],
            [
             1,
             "#276419"
            ]
           ],
           "sequential": [
            [
             0,
             "#0d0887"
            ],
            [
             0.1111111111111111,
             "#46039f"
            ],
            [
             0.2222222222222222,
             "#7201a8"
            ],
            [
             0.3333333333333333,
             "#9c179e"
            ],
            [
             0.4444444444444444,
             "#bd3786"
            ],
            [
             0.5555555555555556,
             "#d8576b"
            ],
            [
             0.6666666666666666,
             "#ed7953"
            ],
            [
             0.7777777777777778,
             "#fb9f3a"
            ],
            [
             0.8888888888888888,
             "#fdca26"
            ],
            [
             1,
             "#f0f921"
            ]
           ],
           "sequentialminus": [
            [
             0,
             "#0d0887"
            ],
            [
             0.1111111111111111,
             "#46039f"
            ],
            [
             0.2222222222222222,
             "#7201a8"
            ],
            [
             0.3333333333333333,
             "#9c179e"
            ],
            [
             0.4444444444444444,
             "#bd3786"
            ],
            [
             0.5555555555555556,
             "#d8576b"
            ],
            [
             0.6666666666666666,
             "#ed7953"
            ],
            [
             0.7777777777777778,
             "#fb9f3a"
            ],
            [
             0.8888888888888888,
             "#fdca26"
            ],
            [
             1,
             "#f0f921"
            ]
           ]
          },
          "colorway": [
           "#636efa",
           "#EF553B",
           "#00cc96",
           "#ab63fa",
           "#FFA15A",
           "#19d3f3",
           "#FF6692",
           "#B6E880",
           "#FF97FF",
           "#FECB52"
          ],
          "font": {
           "color": "#2a3f5f"
          },
          "geo": {
           "bgcolor": "white",
           "lakecolor": "white",
           "landcolor": "#E5ECF6",
           "showlakes": true,
           "showland": true,
           "subunitcolor": "white"
          },
          "hoverlabel": {
           "align": "left"
          },
          "hovermode": "closest",
          "mapbox": {
           "style": "light"
          },
          "paper_bgcolor": "white",
          "plot_bgcolor": "#E5ECF6",
          "polar": {
           "angularaxis": {
            "gridcolor": "white",
            "linecolor": "white",
            "ticks": ""
           },
           "bgcolor": "#E5ECF6",
           "radialaxis": {
            "gridcolor": "white",
            "linecolor": "white",
            "ticks": ""
           }
          },
          "scene": {
           "xaxis": {
            "backgroundcolor": "#E5ECF6",
            "gridcolor": "white",
            "gridwidth": 2,
            "linecolor": "white",
            "showbackground": true,
            "ticks": "",
            "zerolinecolor": "white"
           },
           "yaxis": {
            "backgroundcolor": "#E5ECF6",
            "gridcolor": "white",
            "gridwidth": 2,
            "linecolor": "white",
            "showbackground": true,
            "ticks": "",
            "zerolinecolor": "white"
           },
           "zaxis": {
            "backgroundcolor": "#E5ECF6",
            "gridcolor": "white",
            "gridwidth": 2,
            "linecolor": "white",
            "showbackground": true,
            "ticks": "",
            "zerolinecolor": "white"
           }
          },
          "shapedefaults": {
           "line": {
            "color": "#2a3f5f"
           }
          },
          "ternary": {
           "aaxis": {
            "gridcolor": "white",
            "linecolor": "white",
            "ticks": ""
           },
           "baxis": {
            "gridcolor": "white",
            "linecolor": "white",
            "ticks": ""
           },
           "bgcolor": "#E5ECF6",
           "caxis": {
            "gridcolor": "white",
            "linecolor": "white",
            "ticks": ""
           }
          },
          "title": {
           "x": 0.05
          },
          "xaxis": {
           "automargin": true,
           "gridcolor": "white",
           "linecolor": "white",
           "ticks": "",
           "title": {
            "standoff": 15
           },
           "zerolinecolor": "white",
           "zerolinewidth": 2
          },
          "yaxis": {
           "automargin": true,
           "gridcolor": "white",
           "linecolor": "white",
           "ticks": "",
           "title": {
            "standoff": 15
           },
           "zerolinecolor": "white",
           "zerolinewidth": 2
          }
         }
        },
        "title": {
         "text": "Funnel Chart by Status"
        }
       }
      }
     },
     "metadata": {},
     "output_type": "display_data"
    }
   ],
   "source": [
    "import pandas as pd\n",
    "import plotly.graph_objects as go\n",
    "\n",
    "# Read the cleaned CSV file\n",
    "df = pd.read_csv('CRM-and-Sales-Pipelines_cleaned.csv')\n",
    "\n",
    "# Count each value in the Status column\n",
    "status_counts = df['Status'].value_counts().reset_index()\n",
    "status_counts.columns = ['Status', 'Count']\n",
    "\n",
    "# Sort by count descending for funnel order\n",
    "status_counts = status_counts.sort_values('Count', ascending=False).reset_index(drop=True)\n",
    "\n",
    "fig = go.Figure(go.Funnel(\n",
    "    y=status_counts['Status'],\n",
    "    x=status_counts['Count'],\n",
    "    textinfo=\"value+percent initial\",\n",
    "    marker={\"color\": [\n",
    "        \"#FF8C42\", \"#3A99D8\", \"#20B2AA\", \"#444444\", \"#8BC34A\", \"#FFC107\", \"#E91E63\", \"#9C27B0\", \"#607D8B\"\n",
    "    ][:len(status_counts)]}\n",
    "))\n",
    "\n",
    "fig.update_layout(\n",
    "    title=\"Funnel Chart by Status\",\n",
    "    plot_bgcolor='white'\n",
    ")\n",
    "\n",
    "fig.show()"
   ]
  },
  {
   "cell_type": "markdown",
   "id": "f56d42dc",
   "metadata": {},
   "source": [
    "## Product-Market Optimization\n",
    "\n",
    "**Question:**  \n",
    "Which products offer the highest revenue potential?\n",
    "\n",
    "**Approach:**  \n",
    "By analyzing the current pipeline and focusing only on opportunities (`Status == \"Opportunity\"`), I found that the highest revenue potential is concentrated in the following products:\n",
    "\n",
    "- The analysis was performed by grouping all opportunities by product and summing their total deal value.\n",
    "- Only the `Product`, `Status`, and `Deal_Value_USD` columns were used.\n",
    "- The results show that, at present, there are only three products with active opportunities in the pipeline. These products represent the areas with the greatest potential for future wins, based on the current data.\n",
    "\n",
    "This insight can help prioritize sales and marketing efforts toward the products with the largest opportunity value in the pipeline."
   ]
  },
  {
   "cell_type": "code",
   "execution_count": null,
   "id": "613eaff1",
   "metadata": {},
   "outputs": [
    {
     "name": "stdout",
     "output_type": "stream",
     "text": [
      "Total Opportunities: 867\n",
      "Total Opportunity Value: $2.3M\n"
     ]
    },
    {
     "data": {
      "text/html": [
       "<style type=\"text/css\">\n",
       "#T_f59f7 th {\n",
       "  text-align: center;\n",
       "}\n",
       "#T_f59f7 td {\n",
       "  text-align: center;\n",
       "}\n",
       "</style>\n",
       "<table id=\"T_f59f7\">\n",
       "  <thead>\n",
       "    <tr>\n",
       "      <th id=\"T_f59f7_level0_col0\" class=\"col_heading level0 col0\" >Product</th>\n",
       "      <th id=\"T_f59f7_level0_col1\" class=\"col_heading level0 col1\" >Deal Value (USD)</th>\n",
       "    </tr>\n",
       "  </thead>\n",
       "  <tbody>\n",
       "    <tr>\n",
       "      <td id=\"T_f59f7_row0_col0\" class=\"data row0 col0\" >SAAS</td>\n",
       "      <td id=\"T_f59f7_row0_col1\" class=\"data row0 col1\" >$961K</td>\n",
       "    </tr>\n",
       "    <tr>\n",
       "      <td id=\"T_f59f7_row1_col0\" class=\"data row1 col0\" >Services</td>\n",
       "      <td id=\"T_f59f7_row1_col1\" class=\"data row1 col1\" >$847K</td>\n",
       "    </tr>\n",
       "    <tr>\n",
       "      <td id=\"T_f59f7_row2_col0\" class=\"data row2 col0\" >Custom solution</td>\n",
       "      <td id=\"T_f59f7_row2_col1\" class=\"data row2 col1\" >$488K</td>\n",
       "    </tr>\n",
       "  </tbody>\n",
       "</table>\n"
      ],
      "text/plain": [
       "<IPython.core.display.HTML object>"
      ]
     },
     "metadata": {},
     "output_type": "display_data"
    }
   ],
   "source": [
    "# Filter for opportunities (where Product is not null)\n",
    "opps_df = df[(df['Status'] == 'Opportunity') & (df['Product'].notnull())]\n",
    "\n",
    "# Total number of opportunities and total deal value\n",
    "num_opps = opps_df.shape[0]\n",
    "total_value = opps_df['Deal_Value_USD'].sum()\n",
    "\n",
    "# Function to format currency in $12K, $1M, etc.\n",
    "def currency_format(x):\n",
    "    if x >= 1_000_000:\n",
    "        return f'${x/1_000_000:.1f}M'\n",
    "    elif x >= 1_000:\n",
    "        return f'${x/1_000:.0f}K'\n",
    "    else:\n",
    "        return f'${x:,.0f}'\n",
    "\n",
    "print(f\"Total Opportunities: {num_opps}\")\n",
    "print(f\"Total Opportunity Value: {currency_format(total_value)}\")\n",
    "\n",
    "# Top 3 products by opportunity value\n",
    "product_totals = opps_df.groupby('Product')['Deal_Value_USD'].sum().reset_index()\n",
    "product_totals = product_totals.sort_values('Deal_Value_USD', ascending=False).head(3).reset_index(drop=True)\n",
    "product_totals['Deal Value (USD)'] = product_totals['Deal_Value_USD'].apply(currency_format)\n",
    "product_totals = product_totals[['Product', 'Deal Value (USD)']]\n",
    "\n",
    "# Center all columns and remove index\n",
    "styles = [\n",
    "    {'selector': 'th', 'props': [('text-align', 'center')]},\n",
    "    {'selector': 'td', 'props': [('text-align', 'center')]}\n",
    "]\n",
    "\n",
    "from IPython.display import display, HTML\n",
    "display(HTML(product_totals.style.set_table_styles(styles).hide(axis='index').to_html()))\n"
   ]
  }
 ],
 "metadata": {
  "kernelspec": {
   "display_name": "base",
   "language": "python",
   "name": "python3"
  },
  "language_info": {
   "codemirror_mode": {
    "name": "ipython",
    "version": 3
   },
   "file_extension": ".py",
   "mimetype": "text/x-python",
   "name": "python",
   "nbconvert_exporter": "python",
   "pygments_lexer": "ipython3",
   "version": "3.12.7"
  }
 },
 "nbformat": 4,
 "nbformat_minor": 5
}
